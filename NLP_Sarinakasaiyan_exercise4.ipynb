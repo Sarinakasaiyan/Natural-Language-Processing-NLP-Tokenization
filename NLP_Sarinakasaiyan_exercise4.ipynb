{
  "nbformat": 4,
  "nbformat_minor": 0,
  "metadata": {
    "colab": {
      "provenance": []
    },
    "kernelspec": {
      "name": "python3",
      "display_name": "Python 3"
    },
    "language_info": {
      "name": "python"
    }
  },
  "cells": [
    {
      "cell_type": "code",
      "execution_count": 1,
      "metadata": {
        "id": "rEIt2W-KTEvj"
      },
      "outputs": [],
      "source": [
        "#sarinakasaiyan"
      ]
    },
    {
      "cell_type": "code",
      "source": [
        "import nltk\n",
        "nltk.download('wordnet')"
      ],
      "metadata": {
        "colab": {
          "base_uri": "https://localhost:8080/"
        },
        "id": "2BZPF9HRTKYR",
        "outputId": "95657241-68dc-42cc-f867-376c9dcd38a5"
      },
      "execution_count": 2,
      "outputs": [
        {
          "output_type": "stream",
          "name": "stderr",
          "text": [
            "[nltk_data] Downloading package wordnet to /root/nltk_data...\n"
          ]
        },
        {
          "output_type": "execute_result",
          "data": {
            "text/plain": [
              "True"
            ]
          },
          "metadata": {},
          "execution_count": 2
        }
      ]
    },
    {
      "cell_type": "code",
      "source": [
        "from nltk.stem import WordNetLemmatizer\n",
        "lemmatizer = WordNetLemmatizer()\n",
        "print(lemmatizer.lemmatize('dogs'))\n",
        "print(lemmatizer.lemmatize(\"pianos\"))\n",
        "print(lemmatizer.lemmatize(\"python\"))\n",
        "print(lemmatizer.lemmatize(\"cheaper\",pos=\"a\"))\n",
        "print(lemmatizer.lemmatize(\"better\",pos=\"n\"))\n",
        "print(lemmatizer.lemmatize(\"playing\",pos='v'))"
      ],
      "metadata": {
        "colab": {
          "base_uri": "https://localhost:8080/"
        },
        "id": "fCDwYueMTLIX",
        "outputId": "7b1c7b4b-e754-43a5-8e3b-765467e529ba"
      },
      "execution_count": 3,
      "outputs": [
        {
          "output_type": "stream",
          "name": "stdout",
          "text": [
            "dog\n",
            "piano\n",
            "python\n",
            "cheap\n",
            "better\n",
            "play\n"
          ]
        }
      ]
    }
  ]
}