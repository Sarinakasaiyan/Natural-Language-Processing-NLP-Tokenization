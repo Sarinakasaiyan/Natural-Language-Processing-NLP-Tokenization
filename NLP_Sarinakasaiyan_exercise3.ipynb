{
  "nbformat": 4,
  "nbformat_minor": 0,
  "metadata": {
    "colab": {
      "provenance": []
    },
    "kernelspec": {
      "name": "python3",
      "display_name": "Python 3"
    },
    "language_info": {
      "name": "python"
    }
  },
  "cells": [
    {
      "cell_type": "code",
      "execution_count": 1,
      "metadata": {
        "id": "iFownTkHQt8A"
      },
      "outputs": [],
      "source": [
        "#sarinakasaiyan"
      ]
    },
    {
      "cell_type": "code",
      "source": [
        "import nltk\n",
        "nltk.download('punkt')"
      ],
      "metadata": {
        "colab": {
          "base_uri": "https://localhost:8080/"
        },
        "id": "vzQCUrL2Q7qC",
        "outputId": "18f6e9f4-efb6-4cae-ed3a-b011fe2a2ce5"
      },
      "execution_count": 2,
      "outputs": [
        {
          "output_type": "stream",
          "name": "stderr",
          "text": [
            "[nltk_data] Downloading package punkt to /root/nltk_data...\n",
            "[nltk_data]   Unzipping tokenizers/punkt.zip.\n"
          ]
        },
        {
          "output_type": "execute_result",
          "data": {
            "text/plain": [
              "True"
            ]
          },
          "metadata": {},
          "execution_count": 2
        }
      ]
    },
    {
      "cell_type": "code",
      "source": [
        "from nltk.tokenize import word_tokenize,sent_tokenize\n",
        "s = \"Routines\\nhelp you do the right thing.\\t\\t\\t\\teven if you don't feel like doing it.\"\n",
        "w = sent_tokenize(s)\n",
        "print(w)\n"
      ],
      "metadata": {
        "colab": {
          "base_uri": "https://localhost:8080/"
        },
        "id": "JbccxlifQ8m9",
        "outputId": "4ca6b042-1a33-4e1b-f2dc-b3a8ffa096d8"
      },
      "execution_count": 9,
      "outputs": [
        {
          "output_type": "stream",
          "name": "stdout",
          "text": [
            "['Routines\\nhelp you do the right thing.', \"even if you don't feel like doing it.\"]\n"
          ]
        }
      ]
    }
  ]
}