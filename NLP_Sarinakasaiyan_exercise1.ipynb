{
  "nbformat": 4,
  "nbformat_minor": 0,
  "metadata": {
    "colab": {
      "provenance": []
    },
    "kernelspec": {
      "name": "python3",
      "display_name": "Python 3"
    },
    "language_info": {
      "name": "python"
    }
  },
  "cells": [
    {
      "cell_type": "code",
      "source": [
        "#sarinakasaiyan"
      ],
      "metadata": {
        "id": "oWu14RD_9jB3"
      },
      "execution_count": 3,
      "outputs": []
    },
    {
      "cell_type": "code",
      "execution_count": 4,
      "metadata": {
        "colab": {
          "base_uri": "https://localhost:8080/"
        },
        "id": "w8g5CQNV5py8",
        "outputId": "e2b9106d-f5b2-4fd5-9fec-70b7008602f8"
      },
      "outputs": [
        {
          "output_type": "stream",
          "name": "stderr",
          "text": [
            "[nltk_data] Downloading package punkt to /root/nltk_data...\n",
            "[nltk_data]   Package punkt is already up-to-date!\n"
          ]
        },
        {
          "output_type": "execute_result",
          "data": {
            "text/plain": [
              "True"
            ]
          },
          "metadata": {},
          "execution_count": 4
        }
      ],
      "source": [
        "import nltk\n",
        "nltk.download('punkt')"
      ]
    },
    {
      "cell_type": "code",
      "source": [
        "from nltk.tokenize import sent_tokenize,word_tokenize\n",
        "s =  \"A SINGLE DAY CAN CHANGE YOUR ENTIRE LIFE ! [SARINAKASAIYAN]\"\n",
        "w = word_tokenize(s)\n",
        "print(w)"
      ],
      "metadata": {
        "colab": {
          "base_uri": "https://localhost:8080/"
        },
        "id": "qT9gY2ko7Q-w",
        "outputId": "924688c6-1eb7-40f8-b627-c70af949ebb4"
      },
      "execution_count": 7,
      "outputs": [
        {
          "output_type": "stream",
          "name": "stdout",
          "text": [
            "['A', 'SINGLE', 'DAY', 'CAN', 'CHANGE', 'YOUR', 'ENTIRE', 'LIFE', '!', '[', 'SARINAKASAIYAN', ']']\n"
          ]
        }
      ]
    }
  ]
}